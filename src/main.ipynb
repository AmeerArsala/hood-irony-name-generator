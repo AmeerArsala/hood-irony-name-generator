{
 "cells": [
  {
   "cell_type": "code",
   "execution_count": 1,
   "metadata": {
    "pycharm": {
     "name": "#%%\n"
    },
    "tags": []
   },
   "outputs": [],
   "source": [
    "# Imports\n",
    "import os\n",
    "import time\n",
    "\n",
    "import numpy as np\n",
    "import pandas as pd\n",
    "\n",
    "import tensorflow as tf\n",
    "\n",
    "import matplotlib.pyplot as plt\n",
    "\n",
    "# Data Visualization\n",
    "def plothistory(hist):\n",
    "    pd.DataFrame(hist.history).plot(figsize=(8, 5))\n",
    "    plt.grid(True)\n",
    "    plt.gca().set_ylim(0, 1)  # vertical range: [0, 1]\n",
    "    plt.show()"
   ]
  },
  {
   "cell_type": "code",
   "execution_count": 2,
   "metadata": {
    "collapsed": false,
    "jupyter": {
     "outputs_hidden": false
    },
    "pycharm": {
     "name": "#%%\n"
    }
   },
   "outputs": [
    {
     "name": "stdout",
     "output_type": "stream",
     "text": [
      "Length of text (in characters): 1406\n",
      "Rumptious Rinkstilskin\n",
      "Cornarius Wigglebottom\n",
      "Jonesington Julius Jackson XI\n",
      "Quantill Shawn King II\n",
      "Michael McTavish X\n",
      "Luther Beckam Jr\n",
      "Deshawn Shaun Mark\n",
      "Robert Dingleberry Twain\n",
      "Ausante Adams IV\n",
      "Cameron Demarcus Williams VII\n",
      "Lequan Hubert Smith\n",
      "Randal Cunningham\n",
      "DeMarkus Flannigan the IVth\n",
      "Darnell Rashad Watkins III\n",
      "Quwane Swagnalious Mordool\n",
      "Stephens Aspen Devonte\n",
      "Deltrese DeRose Limonthemus\n",
      "Cornelius DeShawn Williams XIV\n",
      "Romulus Daquan Venistritus XIX\n",
      "Quandale Dingle\n",
      "Quantavious Octanopolous Obama XII\n",
      "Kumalala Savesta\n",
      "Bonerbeater D. Gooblesquibbins\n",
      "Albert Doo-Doo Bittleton VIII\n",
      "Quandalano Barnacle Dingleberry VI\n",
      "Bonerbeater D. Periwinkle IV\n",
      "Quadius Scratchensniff Dingle Sr\n",
      "Doodooshit Jonathan Williams\n",
      "Doodoosniff A. Dookey III\n",
      "Quandala B. Doodleberry\n",
      "Tickletipson Scratchensniff Pringleton\n",
      "Quandingling Big man Gooblesquibbins VII\n",
      "Garfield Doo-Doo Zoppity Bop-Bop-Bop Bittleton VIII\n",
      "Quanfrazzle Squintillion Winkledink Jr\n",
      "Tickletipson Barnacle Ticklepickle VIII\n",
      "Dingledong Bugglesmith Dihngle Jr\n",
      "D'marcus Biggie Bingleton\n",
      "Juandale Big man Bittleton III\n",
      "Beezow Jones Anuslicker\n",
      "Jamarius A. Bittleton I\n",
      "Quandalius Squintillion Winkledink\n",
      "Dingledong Bockzadale Pringle II\n",
      "Joe Biden\n",
      "Ejaculavious Nesterov Xylophone MXIV\n",
      "Uranus Yiffquan Jojonicus III\n",
      "Eugene Xadix Biden LV\n",
      "Tyrannosaurus Rex Turkey-Bastersmith\n",
      "Chuckorius Flarp\n",
      "Marijuana Pepsi Jackson\n"
     ]
    },
    {
     "data": {
      "text/plain": [
       "\"Rumptious Rinkstilskin\\r\\nCornarius Wigglebottom\\r\\nJonesington Julius Jackson XI\\r\\nQuantill Shawn King II\\r\\nMichael McTavish X\\r\\nLuther Beckam Jr\\r\\nDeshawn Shaun Mark\\r\\nRobert Dingleberry Twain\\r\\nAusante Adams IV\\r\\nCameron Demarcus Williams VII\\r\\nLequan Hubert Smith\\r\\nRandal Cunningham\\r\\nDeMarkus Flannigan the IVth\\r\\nDarnell Rashad Watkins III\\r\\nQuwane Swagnalious Mordool\\r\\nStephens Aspen Devonte\\r\\nDeltrese DeRose Limonthemus\\r\\nCornelius DeShawn Williams XIV\\r\\nRomulus Daquan Venistritus XIX\\r\\nQuandale Dingle\\r\\nQuantavious Octanopolous Obama XII\\r\\nKumalala Savesta\\r\\nBonerbeater D. Gooblesquibbins\\r\\nAlbert Doo-Doo Bittleton VIII\\r\\nQuandalano Barnacle Dingleberry VI\\r\\nBonerbeater D. Periwinkle IV\\r\\nQuadius Scratchensniff Dingle Sr\\r\\nDoodooshit Jonathan Williams\\r\\nDoodoosniff A. Dookey III\\r\\nQuandala B. Doodleberry\\r\\nTickletipson Scratchensniff Pringleton\\r\\nQuandingling Big man Gooblesquibbins VII\\r\\nGarfield Doo-Doo Zoppity Bop-Bop-Bop Bittleton VIII\\r\\nQuanfrazzle Squintillion Winkledink Jr\\r\\nTickletipson Barnacle Ticklepickle VIII\\r\\nDingledong Bugglesmith Dihngle Jr\\r\\nD'marcus Biggie Bingleton\\r\\nJuandale Big man Bittleton III\\r\\nBeezow Jones Anuslicker\\r\\nJamarius A. Bittleton I\\r\\nQuandalius Squintillion Winkledink\\r\\nDingledong Bockzadale Pringle II\\r\\nJoe Biden\\r\\nEjaculavious Nesterov Xylophone MXIV\\r\\nUranus Yiffquan Jojonicus III\\r\\nEugene Xadix Biden LV\\r\\nTyrannosaurus Rex Turkey-Bastersmith\\r\\nChuckorius Flarp\\r\\nMarijuana Pepsi Jackson\""
      ]
     },
     "execution_count": 2,
     "metadata": {},
     "output_type": "execute_result"
    }
   ],
   "source": [
    "# Read Data\n",
    "raw_text_corpus = open(\"../data/diverse_namecorpus.txt\", \"rb\").read().decode(encoding=\"utf-8\")\n",
    "\n",
    "print(f\"Length of text (in characters): {len(raw_text_corpus)}\")\n",
    "print(raw_text_corpus)\n",
    "raw_text_corpus"
   ]
  },
  {
   "cell_type": "code",
   "execution_count": 3,
   "metadata": {
    "collapsed": false,
    "jupyter": {
     "outputs_hidden": false
    },
    "pycharm": {
     "name": "#%%\n"
    }
   },
   "outputs": [
    {
     "data": {
      "text/plain": [
       "\"Rumptious Rinkstilskin\\nCornarius Wigglebottom\\nJonesington Julius Jackson XI\\nQuantill Shawn King II\\nMichael McTavish X\\nLuther Beckam Jr\\nDeshawn Shaun Mark\\nRobert Dingleberry Twain\\nAusante Adams IV\\nCameron Demarcus Williams VII\\nLequan Hubert Smith\\nRandal Cunningham\\nDeMarkus Flannigan the IVth\\nDarnell Rashad Watkins III\\nQuwane Swagnalious Mordool\\nStephens Aspen Devonte\\nDeltrese DeRose Limonthemus\\nCornelius DeShawn Williams XIV\\nRomulus Daquan Venistritus XIX\\nQuandale Dingle\\nQuantavious Octanopolous Obama XII\\nKumalala Savesta\\nBonerbeater D. Gooblesquibbins\\nAlbert Doo-Doo Bittleton VIII\\nQuandalano Barnacle Dingleberry VI\\nBonerbeater D. Periwinkle IV\\nQuadius Scratchensniff Dingle Sr\\nDoodooshit Jonathan Williams\\nDoodoosniff A. Dookey III\\nQuandala B. Doodleberry\\nTickletipson Scratchensniff Pringleton\\nQuandingling Big man Gooblesquibbins VII\\nGarfield Doo-Doo Zoppity Bop-Bop-Bop Bittleton VIII\\nQuanfrazzle Squintillion Winkledink Jr\\nTickletipson Barnacle Ticklepickle VIII\\nDingledong Bugglesmith Dihngle Jr\\nD'marcus Biggie Bingleton\\nJuandale Big man Bittleton III\\nBeezow Jones Anuslicker\\nJamarius A. Bittleton I\\nQuandalius Squintillion Winkledink\\nDingledong Bockzadale Pringle II\\nJoe Biden\\nEjaculavious Nesterov Xylophone MXIV\\nUranus Yiffquan Jojonicus III\\nEugene Xadix Biden LV\\nTyrannosaurus Rex Turkey-Bastersmith\\nChuckorius Flarp\\nMarijuana Pepsi Jackson\""
      ]
     },
     "execution_count": 3,
     "metadata": {},
     "output_type": "execute_result"
    }
   ],
   "source": [
    "# Remove all occurrences of those stupid '\\r's\n",
    "raw_text_corpus = raw_text_corpus.replace(\"\\r\", \"\")\n",
    "raw_text_corpus"
   ]
  },
  {
   "cell_type": "code",
   "execution_count": 4,
   "metadata": {
    "collapsed": false,
    "jupyter": {
     "outputs_hidden": false
    },
    "pycharm": {
     "name": "#%%\n"
    }
   },
   "outputs": [
    {
     "name": "stdout",
     "output_type": "stream",
     "text": [
      "Input: Tensor(\"strided_slice:0\", shape=(None,), dtype=int64)\n",
      "Target: Tensor(\"strided_slice_1:0\", shape=(None,), dtype=int64)\n",
      "Vocabulary: ListWrapper(['?', ' ', '#', \"'\", '-', '.', '0', '1', '2', '3', '4', '5', '6', '7', '8', '9', '>', 'A', 'B', 'C', 'D', 'E', 'F', 'G', 'H', 'I', 'J', 'K', 'L', 'M', 'N', 'O', 'P', 'Q', 'R', 'S', 'T', 'U', 'V', 'W', 'X', 'Y', 'Z', 'a', 'b', 'c', 'd', 'e', 'f', 'g', 'h', 'i', 'j', 'k', 'l', 'm', 'n', 'o', 'p', 'q', 'r', 's', 't', 'u', 'v', 'w', 'x', 'y', 'z'])\n",
      "Corpus ID Tensor Shape: (49, None)\n",
      "Corpus ID tf.Dataset: <MapDataset element_spec=(TensorSpec(shape=(None,), dtype=tf.int64, name=None), TensorSpec(shape=(None,), dtype=tf.int64, name=None))>\n",
      "Shuffled Dataset Object: <PrefetchDataset element_spec=(TensorSpec(shape=(49, None), dtype=tf.int64, name=None), TensorSpec(shape=(49, None), dtype=tf.int64, name=None))>\n",
      "(array([[16, 20, 57, ...,  0,  0,  0],\n",
      "       [16, 17, 63, ...,  0,  0,  0],\n",
      "       [16, 34, 43, ...,  0,  0,  0],\n",
      "       ...,\n",
      "       [16, 29, 43, ...,  0,  0,  0],\n",
      "       [16, 20, 47, ...,  0,  0,  0],\n",
      "       [16, 18, 57, ...,  0,  0,  0]], dtype=int64), array([[20, 57, 57, ...,  0,  0,  0],\n",
      "       [17, 63, 61, ...,  0,  0,  0],\n",
      "       [34, 43, 56, ...,  0,  0,  0],\n",
      "       ...,\n",
      "       [29, 43, 60, ...,  0,  0,  0],\n",
      "       [20, 47, 54, ...,  0,  0,  0],\n",
      "       [18, 57, 56, ...,  0,  0,  0]], dtype=int64))\n",
      "Epoch 1/100\n",
      "1/1 [==============================] - 1s 1s/step - loss: 4.2407\n",
      "Epoch 2/100\n",
      "1/1 [==============================] - 0s 24ms/step - loss: 4.0241\n",
      "Epoch 3/100\n",
      "1/1 [==============================] - 0s 26ms/step - loss: 3.5385\n",
      "Epoch 4/100\n",
      "1/1 [==============================] - 0s 27ms/step - loss: 2.4090\n",
      "Epoch 5/100\n",
      "1/1 [==============================] - 0s 25ms/step - loss: 3.3221\n",
      "Epoch 6/100\n",
      "1/1 [==============================] - 0s 26ms/step - loss: 2.2890\n",
      "Epoch 7/100\n",
      "1/1 [==============================] - 0s 24ms/step - loss: 2.3912\n",
      "Epoch 8/100\n",
      "1/1 [==============================] - 0s 26ms/step - loss: 2.3999\n",
      "Epoch 9/100\n",
      "1/1 [==============================] - 0s 28ms/step - loss: 2.3357\n",
      "Epoch 10/100\n",
      "1/1 [==============================] - 0s 27ms/step - loss: 2.2314\n",
      "Epoch 11/100\n",
      "1/1 [==============================] - 0s 25ms/step - loss: 2.1231\n",
      "Epoch 12/100\n",
      "1/1 [==============================] - 0s 27ms/step - loss: 2.0344\n",
      "Epoch 13/100\n",
      "1/1 [==============================] - 0s 26ms/step - loss: 1.9814\n",
      "Epoch 14/100\n",
      "1/1 [==============================] - 0s 27ms/step - loss: 1.9686\n",
      "Epoch 15/100\n",
      "1/1 [==============================] - 0s 25ms/step - loss: 1.9677\n",
      "Epoch 16/100\n",
      "1/1 [==============================] - 0s 25ms/step - loss: 1.9475\n",
      "Epoch 17/100\n",
      "1/1 [==============================] - 0s 27ms/step - loss: 1.9099\n",
      "Epoch 18/100\n",
      "1/1 [==============================] - 0s 25ms/step - loss: 1.8694\n",
      "Epoch 19/100\n",
      "1/1 [==============================] - 0s 25ms/step - loss: 1.8337\n",
      "Epoch 20/100\n",
      "1/1 [==============================] - 0s 26ms/step - loss: 1.8036\n",
      "Epoch 21/100\n",
      "1/1 [==============================] - 0s 26ms/step - loss: 1.7770\n",
      "Epoch 22/100\n",
      "1/1 [==============================] - 0s 27ms/step - loss: 1.7519\n",
      "Epoch 23/100\n",
      "1/1 [==============================] - 0s 26ms/step - loss: 1.7270\n",
      "Epoch 24/100\n",
      "1/1 [==============================] - 0s 27ms/step - loss: 1.7019\n",
      "Epoch 25/100\n",
      "1/1 [==============================] - 0s 26ms/step - loss: 1.6767\n",
      "Epoch 26/100\n",
      "1/1 [==============================] - 0s 24ms/step - loss: 1.6517\n",
      "Epoch 27/100\n",
      "1/1 [==============================] - 0s 26ms/step - loss: 1.6273\n",
      "Epoch 28/100\n",
      "1/1 [==============================] - 0s 28ms/step - loss: 1.6028\n",
      "Epoch 29/100\n",
      "1/1 [==============================] - 0s 26ms/step - loss: 1.5775\n",
      "Epoch 30/100\n",
      "1/1 [==============================] - 0s 28ms/step - loss: 1.5504\n",
      "Epoch 31/100\n",
      "1/1 [==============================] - 0s 27ms/step - loss: 1.5223\n",
      "Epoch 32/100\n",
      "1/1 [==============================] - 0s 25ms/step - loss: 1.4945\n",
      "Epoch 33/100\n",
      "1/1 [==============================] - 0s 27ms/step - loss: 1.4679\n",
      "Epoch 34/100\n",
      "1/1 [==============================] - 0s 25ms/step - loss: 1.4422\n",
      "Epoch 35/100\n",
      "1/1 [==============================] - 0s 25ms/step - loss: 1.4176\n",
      "Epoch 36/100\n",
      "1/1 [==============================] - 0s 26ms/step - loss: 1.3946\n",
      "Epoch 37/100\n",
      "1/1 [==============================] - 0s 26ms/step - loss: 1.3742\n",
      "Epoch 38/100\n",
      "1/1 [==============================] - 0s 27ms/step - loss: 1.3564\n",
      "Epoch 39/100\n",
      "1/1 [==============================] - 0s 26ms/step - loss: 1.3407\n",
      "Epoch 40/100\n",
      "1/1 [==============================] - 0s 25ms/step - loss: 1.3261\n",
      "Epoch 41/100\n",
      "1/1 [==============================] - 0s 27ms/step - loss: 1.3115\n",
      "Epoch 42/100\n",
      "1/1 [==============================] - 0s 24ms/step - loss: 1.2965\n",
      "Epoch 43/100\n",
      "1/1 [==============================] - 0s 28ms/step - loss: 1.2812\n",
      "Epoch 44/100\n",
      "1/1 [==============================] - 0s 27ms/step - loss: 1.2659\n",
      "Epoch 45/100\n",
      "1/1 [==============================] - 0s 24ms/step - loss: 1.2509\n",
      "Epoch 46/100\n",
      "1/1 [==============================] - 0s 25ms/step - loss: 1.2360\n",
      "Epoch 47/100\n",
      "1/1 [==============================] - 0s 25ms/step - loss: 1.2212\n",
      "Epoch 48/100\n",
      "1/1 [==============================] - 0s 25ms/step - loss: 1.2068\n",
      "Epoch 49/100\n",
      "1/1 [==============================] - 0s 24ms/step - loss: 1.1931\n",
      "Epoch 50/100\n",
      "1/1 [==============================] - 0s 25ms/step - loss: 1.1801\n",
      "Epoch 51/100\n",
      "1/1 [==============================] - 0s 25ms/step - loss: 1.1673\n",
      "Epoch 52/100\n",
      "1/1 [==============================] - 0s 25ms/step - loss: 1.1541\n",
      "Epoch 53/100\n",
      "1/1 [==============================] - 0s 25ms/step - loss: 1.1407\n",
      "Epoch 54/100\n",
      "1/1 [==============================] - 0s 27ms/step - loss: 1.1274\n",
      "Epoch 55/100\n",
      "1/1 [==============================] - 0s 26ms/step - loss: 1.1140\n",
      "Epoch 56/100\n",
      "1/1 [==============================] - 0s 25ms/step - loss: 1.1003\n",
      "Epoch 57/100\n",
      "1/1 [==============================] - 0s 25ms/step - loss: 1.0864\n",
      "Epoch 58/100\n",
      "1/1 [==============================] - 0s 26ms/step - loss: 1.0727\n",
      "Epoch 59/100\n",
      "1/1 [==============================] - 0s 26ms/step - loss: 1.0586\n",
      "Epoch 60/100\n",
      "1/1 [==============================] - 0s 28ms/step - loss: 1.0438\n",
      "Epoch 61/100\n",
      "1/1 [==============================] - 0s 29ms/step - loss: 1.0284\n",
      "Epoch 62/100\n",
      "1/1 [==============================] - 0s 29ms/step - loss: 1.0129\n",
      "Epoch 63/100\n",
      "1/1 [==============================] - 0s 27ms/step - loss: 0.9975\n",
      "Epoch 64/100\n",
      "1/1 [==============================] - 0s 27ms/step - loss: 0.9817\n",
      "Epoch 65/100\n",
      "1/1 [==============================] - 0s 29ms/step - loss: 0.9659\n",
      "Epoch 66/100\n",
      "1/1 [==============================] - 0s 27ms/step - loss: 0.9501\n",
      "Epoch 67/100\n",
      "1/1 [==============================] - 0s 29ms/step - loss: 0.9342\n",
      "Epoch 68/100\n",
      "1/1 [==============================] - 0s 29ms/step - loss: 0.9182\n",
      "Epoch 69/100\n",
      "1/1 [==============================] - 0s 27ms/step - loss: 0.9020\n",
      "Epoch 70/100\n",
      "1/1 [==============================] - 0s 26ms/step - loss: 0.8853\n",
      "Epoch 71/100\n",
      "1/1 [==============================] - 0s 30ms/step - loss: 0.8683\n",
      "Epoch 72/100\n",
      "1/1 [==============================] - 0s 24ms/step - loss: 0.8510\n",
      "Epoch 73/100\n",
      "1/1 [==============================] - 0s 25ms/step - loss: 0.8332\n",
      "Epoch 74/100\n",
      "1/1 [==============================] - 0s 26ms/step - loss: 0.8149\n",
      "Epoch 75/100\n",
      "1/1 [==============================] - 0s 27ms/step - loss: 0.7963\n",
      "Epoch 76/100\n",
      "1/1 [==============================] - 0s 26ms/step - loss: 0.7773\n",
      "Epoch 77/100\n",
      "1/1 [==============================] - 0s 26ms/step - loss: 0.7580\n",
      "Epoch 78/100\n",
      "1/1 [==============================] - 0s 28ms/step - loss: 0.7386\n",
      "Epoch 79/100\n",
      "1/1 [==============================] - 0s 28ms/step - loss: 0.7189\n",
      "Epoch 80/100\n",
      "1/1 [==============================] - 0s 29ms/step - loss: 0.6990\n",
      "Epoch 81/100\n",
      "1/1 [==============================] - 0s 29ms/step - loss: 0.6790\n",
      "Epoch 82/100\n",
      "1/1 [==============================] - 0s 26ms/step - loss: 0.6588\n",
      "Epoch 83/100\n",
      "1/1 [==============================] - 0s 27ms/step - loss: 0.6385\n",
      "Epoch 84/100\n",
      "1/1 [==============================] - 0s 27ms/step - loss: 0.6181\n",
      "Epoch 85/100\n",
      "1/1 [==============================] - 0s 28ms/step - loss: 0.5976\n",
      "Epoch 86/100\n",
      "1/1 [==============================] - 0s 31ms/step - loss: 0.5770\n",
      "Epoch 87/100\n",
      "1/1 [==============================] - 0s 29ms/step - loss: 0.5565\n",
      "Epoch 88/100\n",
      "1/1 [==============================] - 0s 28ms/step - loss: 0.5359\n",
      "Epoch 89/100\n",
      "1/1 [==============================] - 0s 29ms/step - loss: 0.5154\n",
      "Epoch 90/100\n",
      "1/1 [==============================] - 0s 29ms/step - loss: 0.4950\n",
      "Epoch 91/100\n",
      "1/1 [==============================] - 0s 29ms/step - loss: 0.4749\n",
      "Epoch 92/100\n",
      "1/1 [==============================] - 0s 27ms/step - loss: 0.4549\n",
      "Epoch 93/100\n",
      "1/1 [==============================] - 0s 28ms/step - loss: 0.4352\n",
      "Epoch 94/100\n",
      "1/1 [==============================] - 0s 30ms/step - loss: 0.4157\n",
      "Epoch 95/100\n",
      "1/1 [==============================] - 0s 30ms/step - loss: 0.3966\n",
      "Epoch 96/100\n",
      "1/1 [==============================] - 0s 30ms/step - loss: 0.3780\n",
      "Epoch 97/100\n",
      "1/1 [==============================] - 0s 32ms/step - loss: 0.3600\n",
      "Epoch 98/100\n",
      "1/1 [==============================] - 0s 25ms/step - loss: 0.3426\n",
      "Epoch 99/100\n",
      "1/1 [==============================] - 0s 28ms/step - loss: 0.3258\n",
      "Epoch 100/100\n",
      "1/1 [==============================] - 0s 29ms/step - loss: 0.3097\n"
     ]
    },
    {
     "data": {
      "image/png": "[encoded data removed]",
      "text/plain": [
       "<Figure size 800x500 with 1 Axes>"
      ]
     },
     "metadata": {},
     "output_type": "display_data"
    }
   ],
   "source": [
    "from tensorflow.keras.layers import GRU#, LSTM\n",
    "from tensorflow.keras.optimizers import Adam\n",
    "from namegeneration import NamePredictor, NameGenerator, Result\n",
    "\n",
    "# Meat of the model is here\n",
    "recurrent_cell = GRU(units=100, return_state=True, return_sequences=True)\n",
    "\n",
    "# Create Generator\n",
    "name_generator = NameGenerator(recurrent_cell)\n",
    "\n",
    "# Train Generator\n",
    "history = name_generator.train(raw_text_corpus, embedding_dim=100,\n",
    "                               optimizer=Adam(learning_rate=0.01), metrics=[], callbacks=[], \n",
    "                               epochs=100, shuffle_data=True)\n",
    "\n",
    "# Visualize the Data (even if it seems arbitrary)\n",
    "plothistory(history)"
   ]
  },
  {
   "cell_type": "code",
   "execution_count": 17,
   "metadata": {},
   "outputs": [
    {
     "name": "stdout",
     "output_type": "stream",
     "text": [
      "Converting to string representation...\n"
     ]
    },
    {
     "data": {
      "text/plain": [
       "array(['Juantious Doodoosh Delerov Beckzade Doodlebeton Doones VIII',\n",
       "       'Quantiel Bonelious Shaun Kinkleton VIII', 'Jones Jr',\n",
       "       'Rex Turbein', 'Dingle Jackson Winkledink Jr',\n",
       "       'CcurbeerrsiFusniff A. Doo-Dong Borker', 'Ejarcupaton',\n",
       "       'Dingle Jarn Deving ham Jackse Peppi9gleton', 'Sterikle VIII',\n",
       "       'Quandijunanif Pringle Tickleton VIII'], dtype='<U59')"
      ]
     },
     "execution_count": 17,
     "metadata": {},
     "output_type": "execute_result"
    }
   ],
   "source": [
    "# Generate 10 names out of thin air!\n",
    "name_generator.generate(10, stop_at_timestep=100).value"
   ]
  },
  {
   "cell_type": "code",
   "execution_count": null,
   "metadata": {},
   "outputs": [],
   "source": []
  },
  {
   "cell_type": "code",
   "execution_count": null,
   "metadata": {},
   "outputs": [],
   "source": []
  }
 ],
 "metadata": {
  "kernelspec": {
   "display_name": "Python 3 (ipykernel)",
   "language": "python",
   "name": "python3"
  },
  "language_info": {
   "codemirror_mode": {
    "name": "ipython",
    "version": 3
   },
   "file_extension": ".py",
   "mimetype": "text/x-python",
   "name": "python",
   "nbconvert_exporter": "python",
   "pygments_lexer": "ipython3",
   "version": "3.9.12"
  }
 },
 "nbformat": 4,
 "nbformat_minor": 4
}
