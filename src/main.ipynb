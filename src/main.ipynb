{
 "cells": [
  {
   "cell_type": "code",
   "execution_count": 1,
   "metadata": {
    "pycharm": {
     "name": "#%%\n"
    },
    "tags": []
   },
   "outputs": [],
   "source": [
    "# Imports\n",
    "import os\n",
    "import time\n",
    "\n",
    "import numpy as np\n",
    "import pandas as pd\n",
    "\n",
    "import tensorflow as tf\n",
    "\n",
    "import matplotlib.pyplot as plt\n",
    "\n",
    "# Data Visualization\n",
    "def plothistory(hist):\n",
    "    pd.DataFrame(hist.history).plot(figsize=(8, 5))\n",
    "    plt.grid(True)\n",
    "    plt.gca().set_ylim(0, 1)  # vertical range: [0, 1]\n",
    "    plt.show()"
   ]
  },
  {
   "cell_type": "code",
   "execution_count": 2,
   "metadata": {
    "collapsed": false,
    "jupyter": {
     "outputs_hidden": false
    },
    "pycharm": {
     "name": "#%%\n"
    }
   },
   "outputs": [
    {
     "name": "stdout",
     "output_type": "stream",
     "text": [
      "Length of text (in characters): 1406\n",
      "Rumptious Rinkstilskin\n",
      "Cornarius Wigglebottom\n",
      "Jonesington Julius Jackson XI\n",
      "Quantill Shawn King II\n",
      "Michael McTavish X\n",
      "Luther Beckam Jr\n",
      "Deshawn Shaun Mark\n",
      "Robert Dingleberry Twain\n",
      "Ausante Adams IV\n",
      "Cameron Demarcus Williams VII\n",
      "Lequan Hubert Smith\n",
      "Randal Cunningham\n",
      "DeMarkus Flannigan the IVth\n",
      "Darnell Rashad Watkins III\n",
      "Quwane Swagnalious Mordool\n",
      "Stephens Aspen Devonte\n",
      "Deltrese DeRose Limonthemus\n",
      "Cornelius DeShawn Williams XIV\n",
      "Romulus Daquan Venistritus XIX\n",
      "Quandale Dingle\n",
      "Quantavious Octanopolous Obama XII\n",
      "Kumalala Savesta\n",
      "Bonerbeater D. Gooblesquibbins\n",
      "Albert Doo-Doo Bittleton VIII\n",
      "Quandalano Barnacle Dingleberry VI\n",
      "Bonerbeater D. Periwinkle IV\n",
      "Quadius Scratchensniff Dingle Sr\n",
      "Doodooshit Jonathan Williams\n",
      "Doodoosniff A. Dookey III\n",
      "Quandala B. Doodleberry\n",
      "Tickletipson Scratchensniff Pringleton\n",
      "Quandingling Big man Gooblesquibbins VII\n",
      "Garfield Doo-Doo Zoppity Bop-Bop-Bop Bittleton VIII\n",
      "Quanfrazzle Squintillion Winkledink Jr\n",
      "Tickletipson Barnacle Ticklepickle VIII\n",
      "Dingledong Bugglesmith Dihngle Jr\n",
      "D'marcus Biggie Bingleton\n",
      "Juandale Big man Bittleton III\n",
      "Beezow Jones Anuslicker\n",
      "Jamarius A. Bittleton I\n",
      "Quandalius Squintillion Winkledink\n",
      "Dingledong Bockzadale Pringle II\n",
      "Joe Biden\n",
      "Ejaculavious Nesterov Xylophone MXIV\n",
      "Uranus Yiffquan Jojonicus III\n",
      "Eugene Xadix Biden LV\n",
      "Tyrannosaurus Rex Turkey-Bastersmith\n",
      "Chuckorius Flarp\n",
      "Marijuana Pepsi Jackson\n"
     ]
    },
    {
     "data": {
      "text/plain": [
       "\"Rumptious Rinkstilskin\\r\\nCornarius Wigglebottom\\r\\nJonesington Julius Jackson XI\\r\\nQuantill Shawn King II\\r\\nMichael McTavish X\\r\\nLuther Beckam Jr\\r\\nDeshawn Shaun Mark\\r\\nRobert Dingleberry Twain\\r\\nAusante Adams IV\\r\\nCameron Demarcus Williams VII\\r\\nLequan Hubert Smith\\r\\nRandal Cunningham\\r\\nDeMarkus Flannigan the IVth\\r\\nDarnell Rashad Watkins III\\r\\nQuwane Swagnalious Mordool\\r\\nStephens Aspen Devonte\\r\\nDeltrese DeRose Limonthemus\\r\\nCornelius DeShawn Williams XIV\\r\\nRomulus Daquan Venistritus XIX\\r\\nQuandale Dingle\\r\\nQuantavious Octanopolous Obama XII\\r\\nKumalala Savesta\\r\\nBonerbeater D. Gooblesquibbins\\r\\nAlbert Doo-Doo Bittleton VIII\\r\\nQuandalano Barnacle Dingleberry VI\\r\\nBonerbeater D. Periwinkle IV\\r\\nQuadius Scratchensniff Dingle Sr\\r\\nDoodooshit Jonathan Williams\\r\\nDoodoosniff A. Dookey III\\r\\nQuandala B. Doodleberry\\r\\nTickletipson Scratchensniff Pringleton\\r\\nQuandingling Big man Gooblesquibbins VII\\r\\nGarfield Doo-Doo Zoppity Bop-Bop-Bop Bittleton VIII\\r\\nQuanfrazzle Squintillion Winkledink Jr\\r\\nTickletipson Barnacle Ticklepickle VIII\\r\\nDingledong Bugglesmith Dihngle Jr\\r\\nD'marcus Biggie Bingleton\\r\\nJuandale Big man Bittleton III\\r\\nBeezow Jones Anuslicker\\r\\nJamarius A. Bittleton I\\r\\nQuandalius Squintillion Winkledink\\r\\nDingledong Bockzadale Pringle II\\r\\nJoe Biden\\r\\nEjaculavious Nesterov Xylophone MXIV\\r\\nUranus Yiffquan Jojonicus III\\r\\nEugene Xadix Biden LV\\r\\nTyrannosaurus Rex Turkey-Bastersmith\\r\\nChuckorius Flarp\\r\\nMarijuana Pepsi Jackson\""
      ]
     },
     "execution_count": 2,
     "metadata": {},
     "output_type": "execute_result"
    }
   ],
   "source": [
    "# Read Data\n",
    "raw_text_corpus = open(\"../data/diverse_namecorpus.txt\", \"rb\").read().decode(encoding=\"utf-8\")\n",
    "\n",
    "print(f\"Length of text (in characters): {len(raw_text_corpus)}\")\n",
    "print(raw_text_corpus)\n",
    "raw_text_corpus"
   ]
  },
  {
   "cell_type": "code",
   "execution_count": 3,
   "metadata": {
    "collapsed": false,
    "jupyter": {
     "outputs_hidden": false
    },
    "pycharm": {
     "name": "#%%\n"
    }
   },
   "outputs": [
    {
     "data": {
      "text/plain": [
       "\"Rumptious Rinkstilskin\\nCornarius Wigglebottom\\nJonesington Julius Jackson XI\\nQuantill Shawn King II\\nMichael McTavish X\\nLuther Beckam Jr\\nDeshawn Shaun Mark\\nRobert Dingleberry Twain\\nAusante Adams IV\\nCameron Demarcus Williams VII\\nLequan Hubert Smith\\nRandal Cunningham\\nDeMarkus Flannigan the IVth\\nDarnell Rashad Watkins III\\nQuwane Swagnalious Mordool\\nStephens Aspen Devonte\\nDeltrese DeRose Limonthemus\\nCornelius DeShawn Williams XIV\\nRomulus Daquan Venistritus XIX\\nQuandale Dingle\\nQuantavious Octanopolous Obama XII\\nKumalala Savesta\\nBonerbeater D. Gooblesquibbins\\nAlbert Doo-Doo Bittleton VIII\\nQuandalano Barnacle Dingleberry VI\\nBonerbeater D. Periwinkle IV\\nQuadius Scratchensniff Dingle Sr\\nDoodooshit Jonathan Williams\\nDoodoosniff A. Dookey III\\nQuandala B. Doodleberry\\nTickletipson Scratchensniff Pringleton\\nQuandingling Big man Gooblesquibbins VII\\nGarfield Doo-Doo Zoppity Bop-Bop-Bop Bittleton VIII\\nQuanfrazzle Squintillion Winkledink Jr\\nTickletipson Barnacle Ticklepickle VIII\\nDingledong Bugglesmith Dihngle Jr\\nD'marcus Biggie Bingleton\\nJuandale Big man Bittleton III\\nBeezow Jones Anuslicker\\nJamarius A. Bittleton I\\nQuandalius Squintillion Winkledink\\nDingledong Bockzadale Pringle II\\nJoe Biden\\nEjaculavious Nesterov Xylophone MXIV\\nUranus Yiffquan Jojonicus III\\nEugene Xadix Biden LV\\nTyrannosaurus Rex Turkey-Bastersmith\\nChuckorius Flarp\\nMarijuana Pepsi Jackson\""
      ]
     },
     "execution_count": 3,
     "metadata": {},
     "output_type": "execute_result"
    }
   ],
   "source": [
    "# Remove all occurrences of those stupid '\\r's\n",
    "raw_text_corpus = raw_text_corpus.replace(\"\\r\", \"\")\n",
    "raw_text_corpus"
   ]
  },
  {
   "cell_type": "code",
   "execution_count": 4,
   "metadata": {
    "collapsed": false,
    "jupyter": {
     "outputs_hidden": false
    },
    "pycharm": {
     "name": "#%%\n"
    }
   },
   "outputs": [
    {
     "name": "stdout",
     "output_type": "stream",
     "text": [
      "Vocabulary: ListWrapper(['<UNK>', ' ', \"'\", '-', '.', '0', '1', '2', '3', '4', '5', '6', '7', '8', '9', '<', '>', 'A', 'B', 'C', 'D', 'E', 'F', 'G', 'H', 'I', 'J', 'K', 'L', 'M', 'N', 'O', 'P', 'Q', 'R', 'S', 'T', 'U', 'V', 'W', 'X', 'Y', 'Z', 'a', 'b', 'c', 'd', 'e', 'f', 'g', 'h', 'i', 'j', 'k', 'l', 'm', 'n', 'o', 'p', 'q', 'r', 's', 't', 'u', 'v', 'w', 'x', 'y', 'z'])\n",
      "Input: Tensor(\"strided_slice:0\", shape=(None,), dtype=int64)\n",
      "Target: Tensor(\"strided_slice_1:0\", shape=(None,), dtype=int64)\n",
      "Corpus ID Tensor Shape: (49, None)\n",
      "Corpus ID tf.Dataset: <MapDataset element_spec=(TensorSpec(shape=(None,), dtype=tf.int64, name=None), TensorSpec(shape=(None,), dtype=tf.int64, name=None))>\n",
      "Shuffled Dataset Object: <PrefetchDataset element_spec=(TensorSpec(shape=(49, None), dtype=tf.int64, name=None), TensorSpec(shape=(49, None), dtype=tf.int64, name=None))>\n",
      "(array([[15, 35, 31, ...,  0,  0,  0],\n",
      "       [15, 35, 31, ...,  0,  0,  0],\n",
      "       [15, 35, 31, ...,  0,  0,  0],\n",
      "       ...,\n",
      "       [15, 35, 31, ...,  0,  0,  0],\n",
      "       [15, 35, 31, ...,  0,  0,  0],\n",
      "       [15, 35, 31, ...,  0,  0,  0]], dtype=int64), array([[35, 31, 35, ...,  0,  0,  0],\n",
      "       [35, 31, 35, ...,  0,  0,  0],\n",
      "       [35, 31, 35, ...,  0,  0,  0],\n",
      "       ...,\n",
      "       [35, 31, 35, ...,  0,  0,  0],\n",
      "       [35, 31, 35, ...,  0,  0,  0],\n",
      "       [35, 31, 35, ...,  0,  0,  0]], dtype=int64))\n",
      "Epoch 1/83\n",
      "1/1 [==============================] - 1s 1s/step - loss: 4.2389\n",
      "Epoch 2/83\n",
      "1/1 [==============================] - 0s 33ms/step - loss: 4.0106\n",
      "Epoch 3/83\n",
      "1/1 [==============================] - 0s 28ms/step - loss: 3.4918\n",
      "Epoch 4/83\n",
      "1/1 [==============================] - 0s 30ms/step - loss: 2.8180\n",
      "Epoch 5/83\n",
      "1/1 [==============================] - 0s 30ms/step - loss: 2.6704\n",
      "Epoch 6/83\n",
      "1/1 [==============================] - 0s 29ms/step - loss: 2.6729\n",
      "Epoch 7/83\n",
      "1/1 [==============================] - 0s 29ms/step - loss: 2.5922\n",
      "Epoch 8/83\n",
      "1/1 [==============================] - 0s 29ms/step - loss: 2.5051\n",
      "Epoch 9/83\n",
      "1/1 [==============================] - 0s 32ms/step - loss: 2.4207\n",
      "Epoch 10/83\n",
      "1/1 [==============================] - 0s 30ms/step - loss: 2.3297\n",
      "Epoch 11/83\n",
      "1/1 [==============================] - 0s 27ms/step - loss: 2.2343\n",
      "Epoch 12/83\n",
      "1/1 [==============================] - 0s 27ms/step - loss: 2.1462\n",
      "Epoch 13/83\n",
      "1/1 [==============================] - 0s 29ms/step - loss: 2.0768\n",
      "Epoch 14/83\n",
      "1/1 [==============================] - 0s 30ms/step - loss: 2.0308\n",
      "Epoch 15/83\n",
      "1/1 [==============================] - 0s 29ms/step - loss: 1.9802\n",
      "Epoch 16/83\n",
      "1/1 [==============================] - 0s 31ms/step - loss: 1.9066\n",
      "Epoch 17/83\n",
      "1/1 [==============================] - 0s 31ms/step - loss: 1.8310\n",
      "Epoch 18/83\n",
      "1/1 [==============================] - 0s 32ms/step - loss: 1.7657\n",
      "Epoch 19/83\n",
      "1/1 [==============================] - 0s 31ms/step - loss: 1.7112\n",
      "Epoch 20/83\n",
      "1/1 [==============================] - 0s 32ms/step - loss: 1.6666\n",
      "Epoch 21/83\n",
      "1/1 [==============================] - 0s 32ms/step - loss: 1.6281\n",
      "Epoch 22/83\n",
      "1/1 [==============================] - 0s 29ms/step - loss: 1.5902\n",
      "Epoch 23/83\n",
      "1/1 [==============================] - 0s 30ms/step - loss: 1.5491\n",
      "Epoch 24/83\n",
      "1/1 [==============================] - 0s 29ms/step - loss: 1.5055\n",
      "Epoch 25/83\n",
      "1/1 [==============================] - 0s 30ms/step - loss: 1.4627\n",
      "Epoch 26/83\n",
      "1/1 [==============================] - 0s 29ms/step - loss: 1.4230\n",
      "Epoch 27/83\n",
      "1/1 [==============================] - 0s 27ms/step - loss: 1.3870\n",
      "Epoch 28/83\n",
      "1/1 [==============================] - 0s 29ms/step - loss: 1.3551\n",
      "Epoch 29/83\n",
      "1/1 [==============================] - 0s 30ms/step - loss: 1.3282\n",
      "Epoch 30/83\n",
      "1/1 [==============================] - 0s 26ms/step - loss: 1.3058\n",
      "Epoch 31/83\n",
      "1/1 [==============================] - 0s 29ms/step - loss: 1.2852\n",
      "Epoch 32/83\n",
      "1/1 [==============================] - 0s 29ms/step - loss: 1.2638\n",
      "Epoch 33/83\n",
      "1/1 [==============================] - 0s 29ms/step - loss: 1.2414\n",
      "Epoch 34/83\n",
      "1/1 [==============================] - 0s 30ms/step - loss: 1.2201\n",
      "Epoch 35/83\n",
      "1/1 [==============================] - 0s 28ms/step - loss: 1.2013\n",
      "Epoch 36/83\n",
      "1/1 [==============================] - 0s 30ms/step - loss: 1.1849\n",
      "Epoch 37/83\n",
      "1/1 [==============================] - 0s 29ms/step - loss: 1.1690\n",
      "Epoch 38/83\n",
      "1/1 [==============================] - 0s 28ms/step - loss: 1.1520\n",
      "Epoch 39/83\n",
      "1/1 [==============================] - 0s 28ms/step - loss: 1.1343\n",
      "Epoch 40/83\n",
      "1/1 [==============================] - 0s 29ms/step - loss: 1.1171\n",
      "Epoch 41/83\n",
      "1/1 [==============================] - 0s 29ms/step - loss: 1.1015\n",
      "Epoch 42/83\n",
      "1/1 [==============================] - 0s 30ms/step - loss: 1.0874\n",
      "Epoch 43/83\n",
      "1/1 [==============================] - 0s 28ms/step - loss: 1.0749\n",
      "Epoch 44/83\n",
      "1/1 [==============================] - 0s 28ms/step - loss: 1.0632\n",
      "Epoch 45/83\n",
      "1/1 [==============================] - 0s 29ms/step - loss: 1.0505\n",
      "Epoch 46/83\n",
      "1/1 [==============================] - 0s 27ms/step - loss: 1.0360\n",
      "Epoch 47/83\n",
      "1/1 [==============================] - 0s 28ms/step - loss: 1.0207\n",
      "Epoch 48/83\n",
      "1/1 [==============================] - 0s 29ms/step - loss: 1.0062\n",
      "Epoch 49/83\n",
      "1/1 [==============================] - 0s 31ms/step - loss: 0.9926\n",
      "Epoch 50/83\n",
      "1/1 [==============================] - 0s 28ms/step - loss: 0.9791\n",
      "Epoch 51/83\n",
      "1/1 [==============================] - 0s 27ms/step - loss: 0.9653\n",
      "Epoch 52/83\n",
      "1/1 [==============================] - 0s 29ms/step - loss: 0.9515\n",
      "Epoch 53/83\n",
      "1/1 [==============================] - 0s 29ms/step - loss: 0.9377\n",
      "Epoch 54/83\n",
      "1/1 [==============================] - 0s 27ms/step - loss: 0.9237\n",
      "Epoch 55/83\n",
      "1/1 [==============================] - 0s 29ms/step - loss: 0.9097\n",
      "Epoch 56/83\n",
      "1/1 [==============================] - 0s 30ms/step - loss: 0.8956\n",
      "Epoch 57/83\n",
      "1/1 [==============================] - 0s 28ms/step - loss: 0.8817\n",
      "Epoch 58/83\n",
      "1/1 [==============================] - 0s 29ms/step - loss: 0.8676\n",
      "Epoch 59/83\n",
      "1/1 [==============================] - 0s 27ms/step - loss: 0.8533\n",
      "Epoch 60/83\n",
      "1/1 [==============================] - 0s 28ms/step - loss: 0.8388\n",
      "Epoch 61/83\n",
      "1/1 [==============================] - 0s 30ms/step - loss: 0.8242\n",
      "Epoch 62/83\n",
      "1/1 [==============================] - 0s 31ms/step - loss: 0.8096\n",
      "Epoch 63/83\n",
      "1/1 [==============================] - 0s 31ms/step - loss: 0.7948\n",
      "Epoch 64/83\n",
      "1/1 [==============================] - 0s 31ms/step - loss: 0.7800\n",
      "Epoch 65/83\n",
      "1/1 [==============================] - 0s 28ms/step - loss: 0.7650\n",
      "Epoch 66/83\n",
      "1/1 [==============================] - 0s 33ms/step - loss: 0.7497\n",
      "Epoch 67/83\n",
      "1/1 [==============================] - 0s 29ms/step - loss: 0.7341\n",
      "Epoch 68/83\n",
      "1/1 [==============================] - 0s 27ms/step - loss: 0.7182\n",
      "Epoch 69/83\n",
      "1/1 [==============================] - 0s 31ms/step - loss: 0.7020\n",
      "Epoch 70/83\n",
      "1/1 [==============================] - 0s 27ms/step - loss: 0.6856\n",
      "Epoch 71/83\n",
      "1/1 [==============================] - 0s 28ms/step - loss: 0.6690\n",
      "Epoch 72/83\n",
      "1/1 [==============================] - 0s 29ms/step - loss: 0.6522\n",
      "Epoch 73/83\n",
      "1/1 [==============================] - 0s 28ms/step - loss: 0.6351\n",
      "Epoch 74/83\n",
      "1/1 [==============================] - 0s 29ms/step - loss: 0.6178\n",
      "Epoch 75/83\n",
      "1/1 [==============================] - 0s 27ms/step - loss: 0.6003\n",
      "Epoch 76/83\n",
      "1/1 [==============================] - 0s 28ms/step - loss: 0.5826\n",
      "Epoch 77/83\n",
      "1/1 [==============================] - 0s 29ms/step - loss: 0.5649\n",
      "Epoch 78/83\n",
      "1/1 [==============================] - 0s 28ms/step - loss: 0.5470\n",
      "Epoch 79/83\n",
      "1/1 [==============================] - 0s 30ms/step - loss: 0.5291\n",
      "Epoch 80/83\n",
      "1/1 [==============================] - 0s 31ms/step - loss: 0.5112\n",
      "Epoch 81/83\n",
      "1/1 [==============================] - 0s 31ms/step - loss: 0.4933\n",
      "Epoch 82/83\n",
      "1/1 [==============================] - 0s 30ms/step - loss: 0.4755\n",
      "Epoch 83/83\n",
      "1/1 [==============================] - 0s 28ms/step - loss: 0.4578\n"
     ]
    },
    {
     "data": {
      "image/png": "[encoded data removed]",
      "text/plain": [
       "<Figure size 800x500 with 1 Axes>"
      ]
     },
     "metadata": {},
     "output_type": "display_data"
    }
   ],
   "source": [
    "from tensorflow.keras.layers import GRU#, LSTM\n",
    "from tensorflow.keras.optimizers import Adam\n",
    "from namegeneration import NamePredictor, NameGenerator, Result\n",
    "\n",
    "# Meat of the model is here\n",
    "recurrent_cell = GRU(units=100, return_state=True, return_sequences=True)\n",
    "\n",
    "# Create Generator\n",
    "name_generator = NameGenerator(recurrent_cell)\n",
    "\n",
    "# Train Generator\n",
    "history = name_generator.train(raw_text_corpus, embedding_dim=100,\n",
    "                               optimizer=Adam(learning_rate=0.01), metrics=[], callbacks=[], \n",
    "                               epochs=83, shuffle_data=True)\n",
    "\n",
    "# Visualize the Data (even if it seems arbitrary)\n",
    "plothistory(history)"
   ]
  },
  {
   "cell_type": "code",
   "execution_count": 7,
   "metadata": {},
   "outputs": [
    {
     "name": "stdout",
     "output_type": "stream",
     "text": [
      "Converting to string representation...\n"
     ]
    },
    {
     "data": {
      "text/plain": [
       "array(['Tichlagon Barnate',\n",
       "       'Kularawa Squinalinius DitherbetbesDong Bop-Bon Bittle Bingleams',\n",
       "       'Robertus Dithe TypEOS>Barevo', 'Cracue Bittep Bigameriy ',\n",
       "       'Quandal man Bidtong Bavterocus ', 'humerius ',\n",
       "       'Bopere DeDese Bop-Boston Deso',\n",
       "       'Quanala Scrandon Bidtleton Binklea',\n",
       "       'Jamaraus Asnesins Deg-5hawn Wi', 'Joneri'], dtype='<U63')"
      ]
     },
     "execution_count": 7,
     "metadata": {},
     "output_type": "execute_result"
    }
   ],
   "source": [
    "# Generate 10 names out of thin air!\n",
    "name_generator.generate(10, stop_at_timestep=100).value"
   ]
  },
  {
   "cell_type": "code",
   "execution_count": null,
   "metadata": {},
   "outputs": [],
   "source": []
  },
  {
   "cell_type": "code",
   "execution_count": null,
   "metadata": {},
   "outputs": [],
   "source": []
  }
 ],
 "metadata": {
  "kernelspec": {
   "display_name": "Python 3 (ipykernel)",
   "language": "python",
   "name": "python3"
  },
  "language_info": {
   "codemirror_mode": {
    "name": "ipython",
    "version": 3
   },
   "file_extension": ".py",
   "mimetype": "text/x-python",
   "name": "python",
   "nbconvert_exporter": "python",
   "pygments_lexer": "ipython3",
   "version": "3.9.12"
  }
 },
 "nbformat": 4,
 "nbformat_minor": 4
}
